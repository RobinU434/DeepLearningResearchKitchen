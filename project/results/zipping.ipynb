{
 "cells": [
  {
   "cell_type": "markdown",
   "metadata": {},
   "source": [
    "Notebook is for zipping the metrics data collected during training a model"
   ]
  },
  {
   "cell_type": "code",
   "execution_count": 6,
   "metadata": {},
   "outputs": [],
   "source": [
    "import zipfile\n",
    "from glob import glob\n",
    "\n",
    "\n",
    "\n",
    "csv = glob(\"saved_models/*/lightning_logs/*/*.csv\")\n",
    "yaml = glob(\"saved_models/*/lightning_logs/*/*.yaml\")\n",
    "\n",
    "zfile = zipfile.ZipFile(\"./saved_models.zip\", mode=\"w\")\n",
    "for file in csv + yaml:\n",
    "    zfile.write(file)\n",
    "\n",
    "zfile.close()"
   ]
  },
  {
   "cell_type": "markdown",
   "metadata": {},
   "source": []
  }
 ],
 "metadata": {
  "kernelspec": {
   "display_name": "DLRK",
   "language": "python",
   "name": "python3"
  },
  "language_info": {
   "codemirror_mode": {
    "name": "ipython",
    "version": 3
   },
   "file_extension": ".py",
   "mimetype": "text/x-python",
   "name": "python",
   "nbconvert_exporter": "python",
   "pygments_lexer": "ipython3",
   "version": "3.11.9"
  }
 },
 "nbformat": 4,
 "nbformat_minor": 2
}
